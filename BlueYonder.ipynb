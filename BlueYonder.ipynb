{
 "cells": [
  {
   "cell_type": "code",
   "execution_count": null,
   "id": "3bc3ace5-3f78-4e32-b4e6-cb7901627ac6",
   "metadata": {},
   "outputs": [],
   "source": [
    "\t\ttable1 & table2\n",
    "\t\t\t\t\t\t\t\t\t\ttable 1 has  4 columns( c1,c2,c3,c4)\n",
    "\t\t\t\t\t\t\t\t\t\ttable2 has 3 columns(p1,p2,p3)\n",
    "\t\t\t\t\t\t\t\t\t\tselect sum(t1.c2) as sum1,sum(t2.p2) as sum2,c3 from table t1 join table t2\n",
    "\t\t\t\t\t\t\t\t\t\twhere c1=1000\n",
    "\t\t\t\t\t\t\t\t\t\ton t1.c1 =t2.c2 group by(c2,p2) order by sum1 desc;\t\n",
    "\n",
    "\n",
    "\t\t\t\t\t\t\t\t\t\ttext = \"DOB: 12-04-2024\"\n",
    "\t\t\t\t\t\t\t\t\t\timport  re\n",
    "\t\t\t\t\t\t\t\t\t\tout = re.findall(r'\\d{2}-\\d{2}-\\d{4}',text)\n",
    "\n",
    "\n",
    "\n",
    "\t\t\t\t\t\t\t\t\t\tdatetime_str = '09/19/22 13:55:26'\n",
    " \n",
    "\t\t\t\t\t\t\t\t\t\tfrom datetime import datetime\t\t\n",
    "\n",
    "\t\t\t\t\t\t\t\t\t\tdf['col'] = datetime(df['col'])\n",
    "\t\t\t\t\t\t\t\t\t\t\n",
    "\t\t\t\t\t\t\t\t\t\tdf['new_col'] = df['col'].rolling(window = 7)\n"
   ]
  },
  {
   "cell_type": "code",
   "execution_count": 1,
   "id": "6c4f8f60-9fe5-4372-956b-1f9dce413e40",
   "metadata": {},
   "outputs": [],
   "source": [
    "import os"
   ]
  },
  {
   "cell_type": "code",
   "execution_count": 2,
   "id": "7bc790d1-3aab-40c6-b45e-47f38855c09a",
   "metadata": {},
   "outputs": [
    {
     "data": {
      "text/plain": [
       "'C:\\\\Users\\\\achyu'"
      ]
     },
     "execution_count": 2,
     "metadata": {},
     "output_type": "execute_result"
    }
   ],
   "source": [
    "os.getcwd()"
   ]
  },
  {
   "cell_type": "code",
   "execution_count": 5,
   "id": "cff8b3d7-e429-47f2-bee2-6f2ba7cc8cd0",
   "metadata": {},
   "outputs": [],
   "source": [
    "os.chdir(\"D:\\\\Learnbay\\\\Github\\\\Practice1112\")"
   ]
  },
  {
   "cell_type": "code",
   "execution_count": 6,
   "id": "9a9ffdcf-e14e-47aa-a6e6-a4a9455a3ee1",
   "metadata": {},
   "outputs": [
    {
     "data": {
      "text/plain": [
       "'D:\\\\Learnbay\\\\Github\\\\Practice1112'"
      ]
     },
     "execution_count": 6,
     "metadata": {},
     "output_type": "execute_result"
    }
   ],
   "source": [
    "os.getcwd()"
   ]
  },
  {
   "cell_type": "code",
   "execution_count": 7,
   "id": "ed8a4f46-9a06-40f8-9532-4a7981f72d6c",
   "metadata": {},
   "outputs": [
    {
     "data": {
      "text/plain": [
       "'D:\\\\Learnbay\\\\Github\\\\Practice1112'"
      ]
     },
     "execution_count": 7,
     "metadata": {},
     "output_type": "execute_result"
    }
   ],
   "source": [
    "os.getcwd()"
   ]
  },
  {
   "cell_type": "code",
   "execution_count": 8,
   "id": "bc876888-ada5-4297-b916-09a361eda18c",
   "metadata": {},
   "outputs": [
    {
     "data": {
      "text/plain": [
       "['.git', 'example.txt', 'Practice1112']"
      ]
     },
     "execution_count": 8,
     "metadata": {},
     "output_type": "execute_result"
    }
   ],
   "source": [
    "os.listdir()"
   ]
  },
  {
   "cell_type": "code",
   "execution_count": null,
   "id": "8bb5352e-2599-4f9c-bae9-87fb56ce2a79",
   "metadata": {},
   "outputs": [],
   "source": []
  }
 ],
 "metadata": {
  "kernelspec": {
   "display_name": "Python 3 (ipykernel)",
   "language": "python",
   "name": "python3"
  },
  "language_info": {
   "codemirror_mode": {
    "name": "ipython",
    "version": 3
   },
   "file_extension": ".py",
   "mimetype": "text/x-python",
   "name": "python",
   "nbconvert_exporter": "python",
   "pygments_lexer": "ipython3",
   "version": "3.9.20"
  }
 },
 "nbformat": 4,
 "nbformat_minor": 5
}
